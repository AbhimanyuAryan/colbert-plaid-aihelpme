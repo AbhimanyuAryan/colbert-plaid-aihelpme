{
 "cells": [
  {
   "cell_type": "code",
   "execution_count": 15,
   "metadata": {},
   "outputs": [],
   "source": [
    "from transformers import AutoTokenizer, AutoModel\n",
    "import torch\n",
    "from torch.nn.functional import cosine_similarity"
   ]
  },
  {
   "cell_type": "code",
   "execution_count": 16,
   "metadata": {},
   "outputs": [],
   "source": [
    "tokenizer = AutoTokenizer.from_pretrained(\"colbert-ir/colbertv2.0\")\n",
    "model = AutoModel.from_pretrained(\"colbert-ir/colbertv2.0\").eval()"
   ]
  },
  {
   "cell_type": "code",
   "execution_count": 22,
   "metadata": {},
   "outputs": [],
   "source": [
    "# Define your query and a list of documents\n",
    "query = \"What is the capital of France?\"\n",
    "documents = [\n",
    "    \"Paris is the capital and most populous city of France.\",\n",
    "    \"Berlin is the capital and largest city of Germany.\",\n",
    "    \"Madrid is the capital of Spain and the largest municipality in both the Community of Madrid and Spain as a whole.\",\n",
    "    \"The capital of Italy is Rome. It is also the country's most populated city.\",\n",
    "    \"This is some filling garbage document\",\n",
    "    \"is the capital and most populous city of\"\n",
    "]"
   ]
  },
  {
   "cell_type": "code",
   "execution_count": 23,
   "metadata": {},
   "outputs": [],
   "source": [
    "query_tokens = tokenizer(query, return_tensors='pt', padding=True, truncation=True)\n",
    "query_embeddings = model(**query_tokens).last_hidden_state\n",
    "query_embeddings = torch.nn.functional.normalize(query_embeddings, p=2, dim=-1)"
   ]
  },
  {
   "cell_type": "code",
   "execution_count": 24,
   "metadata": {},
   "outputs": [],
   "source": [
    "# Prepare for storing scores\n",
    "max_similarity_scores_all_docs = []"
   ]
  },
  {
   "cell_type": "code",
   "execution_count": 25,
   "metadata": {},
   "outputs": [],
   "source": [
    "# Process documents in a loop\n",
    "for document in documents:\n",
    "    document_tokens = tokenizer(document, return_tensors='pt', padding=True, truncation=True)\n",
    "    document_embeddings = model(**document_tokens).last_hidden_state\n",
    "    document_embeddings = torch.nn.functional.normalize(document_embeddings, p=2, dim=-1)\n",
    "\n",
    "    # Compute cosine similarity and MaxSim scores\n",
    "    similarity_scores = cosine_similarity(query_embeddings.squeeze(0)[:, None, :], document_embeddings.squeeze(0)[None, :, :], dim=-1)\n",
    "    max_similarity_scores = similarity_scores.max(dim=1).values  # Maximum score for each query token\n",
    "    document_score = max_similarity_scores.mean()  # Aggregate token scores for the document\n",
    "    max_similarity_scores_all_docs.append(document_score.item())"
   ]
  },
  {
   "cell_type": "code",
   "execution_count": 26,
   "metadata": {},
   "outputs": [
    {
     "name": "stdout",
     "output_type": "stream",
     "text": [
      "Document 1: Score = 0.8900\n",
      "Document 2: Score = 0.7455\n",
      "Document 3: Score = 0.7532\n",
      "Document 4: Score = 0.7800\n",
      "Document 5: Score = 0.2972\n",
      "Document 6: Score = 0.7424\n"
     ]
    }
   ],
   "source": [
    "# Print or return the aggregated scores for each document\n",
    "for i, score in enumerate(max_similarity_scores_all_docs):\n",
    "    print(f\"Document {i+1}: Score = {score:.4f}\")"
   ]
  },
  {
   "cell_type": "code",
   "execution_count": null,
   "metadata": {},
   "outputs": [],
   "source": []
  },
  {
   "cell_type": "code",
   "execution_count": null,
   "metadata": {},
   "outputs": [],
   "source": []
  },
  {
   "cell_type": "code",
   "execution_count": null,
   "metadata": {},
   "outputs": [],
   "source": []
  }
 ],
 "metadata": {
  "kernelspec": {
   "display_name": "RAG",
   "language": "python",
   "name": "python3"
  },
  "language_info": {
   "codemirror_mode": {
    "name": "ipython",
    "version": 3
   },
   "file_extension": ".py",
   "mimetype": "text/x-python",
   "name": "python",
   "nbconvert_exporter": "python",
   "pygments_lexer": "ipython3",
   "version": "3.11.8"
  }
 },
 "nbformat": 4,
 "nbformat_minor": 2
}
