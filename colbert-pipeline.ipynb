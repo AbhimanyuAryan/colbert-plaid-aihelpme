{
 "cells": [
  {
   "cell_type": "code",
   "execution_count": 20,
   "metadata": {},
   "outputs": [],
   "source": [
    "using Transformers\n",
    "using Transformers.TextEncoders\n",
    "using Transformers.HuggingFace"
   ]
  },
  {
   "cell_type": "code",
   "execution_count": 21,
   "metadata": {},
   "outputs": [],
   "source": [
    "textencoder, colbert_model = hgf\"colbert-ir/colbertv2.0\";"
   ]
  },
  {
   "cell_type": "code",
   "execution_count": 22,
   "metadata": {},
   "outputs": [
    {
     "data": {
      "text/plain": [
       "\"\\n\\nWhat I Worked On\\n\\nFebruary 2021\\n\\nBefore college the two main things I worked on, outside of school, were writing and programming. I didn't write essays. I wrote what beginning writers were supposed to write then, and probably still are: short stories. My stories were \"\u001b[93m\u001b[1m ⋯ 74503 bytes ⋯ \u001b[22m\u001b[39m\"y there exists at least one path out of McCarthy's Lisp along which discoveredness is preserved.\\n\\n\\n\\nThanks to Trevor Blackwell, John Collison, Patrick Collison, Daniel Gackle, Ralph Hazell, Jessica Livingston, Robert Morris, and Harj Taggar for reading drafts of this.\\n\""
      ]
     },
     "metadata": {},
     "output_type": "display_data"
    }
   ],
   "source": [
    "query = \"What did Sam Altman do in this essay?\"\n",
    "\n",
    "# read the text from paul_graham/paul_graham_essay.txt\n",
    "document = read(\"paul_graham/paul_graham_essay.txt\", String)"
   ]
  },
  {
   "cell_type": "code",
   "execution_count": 23,
   "metadata": {},
   "outputs": [
    {
     "data": {
      "text/plain": [
       "\"What did Sam Altman do in this essay?\""
      ]
     },
     "metadata": {},
     "output_type": "display_data"
    }
   ],
   "source": [
    "query"
   ]
  },
  {
   "cell_type": "code",
   "execution_count": 24,
   "metadata": {},
   "outputs": [
    {
     "data": {
      "text/plain": [
       "(token = Bool[0 0 … 0 0; 0 0 … 0 0; … ; 0 0 … 0 0; 0 0 … 0 0], segment = [1, 1, 1, 1, 1, 1, 1, 1, 1, 1  …  1, 1, 1, 1, 1, 1, 1, 1, 1, 1], attention_mask = NeuralAttentionlib.LengthMask{1, Vector{Int32}}(Int32[512]))"
      ]
     },
     "metadata": {},
     "output_type": "display_data"
    }
   ],
   "source": [
    "# encode the query and the document\n",
    "en_q = encode(textencoder, query)\n",
    "en_d = encode(textencoder, document)"
   ]
  },
  {
   "cell_type": "code",
   "execution_count": 37,
   "metadata": {},
   "outputs": [
    {
     "data": {
      "text/plain": [
       "768×12×1 Array{Float32, 3}:\n",
       "[:, :, 1] =\n",
       " -0.307674     0.0816573   0.180371   …  -0.356676    -0.377729    -0.269658\n",
       "  0.485692     0.323417    0.154314       0.415259     0.243821     0.543399\n",
       " -0.775578    -0.796666   -0.696745      -0.504342    -0.698706    -1.13649\n",
       " -0.327021    -0.347425   -0.231605      -0.45406     -0.263652    -0.404524\n",
       "  0.39743      0.284432    0.0102873      0.556862     0.619047     0.447949\n",
       "  0.534582     0.0607448  -0.207132   …   0.0897217    0.536982     0.665073\n",
       "  0.0801895    0.419833    0.412683       0.0558069    0.0358131    0.078844\n",
       "  0.0575414    0.147781    0.33608       -0.124437    -0.401365    -0.146188\n",
       " -0.29179     -0.359627   -0.221983       0.027456     0.0479566   -0.302998\n",
       " -0.166194    -0.0401106   0.265267      -0.0655552    0.215938     0.279101\n",
       "  ⋮                                   ⋱                ⋮           \n",
       " -0.210804    -0.161068   -0.273021       0.125927    -0.18309     -0.591171\n",
       " -0.00303041   0.165057   -0.104381   …   0.287376     0.28741      0.185684\n",
       " -0.128411    -0.255916   -0.254674       0.00982971  -0.20918     -0.381758\n",
       "  0.0636169    0.322943    0.0911471     -0.212751     0.0610729    0.350617\n",
       "  0.415144     0.438731    0.190248       0.369835     0.00210518   0.767513\n",
       "  0.175254     0.483864    0.12614       -0.535534     0.00453235   0.34997\n",
       "  0.465889    -0.103681   -0.0668141  …   0.279386    -0.23761      0.481074\n",
       "  0.137429    -0.0515095   0.213766      -0.257912    -0.205904     0.297262\n",
       " -0.376877    -0.346157   -0.304904      -0.125428    -0.211813    -0.768993"
      ]
     },
     "metadata": {},
     "output_type": "display_data"
    }
   ],
   "source": [
    "embedding_q = colbert_model(encode(textencoder, query)).hidden_state"
   ]
  },
  {
   "cell_type": "code",
   "execution_count": 38,
   "metadata": {},
   "outputs": [
    {
     "data": {
      "text/plain": [
       "768×512×1 Array{Float32, 3}:\n",
       "[:, :, 1] =\n",
       " -0.114933   -0.044637    0.249587    0.202452   …  -0.155636    -0.201112\n",
       "  0.308436    0.36466     0.117485    0.472743       0.44855      0.442517\n",
       " -0.222728   -0.277256   -0.147825   -0.295033      -0.373262    -0.292549\n",
       "  0.11437     0.154918    0.134722   -0.0373953      0.0831405    0.0709142\n",
       "  0.168611    0.194241    0.338887    0.216662      -0.24181     -0.153925\n",
       "  0.281828    0.257024    0.312102    0.283969   …   0.379216     0.380832\n",
       "  0.27363     0.408559    0.397667    0.49439        0.357468     0.153964\n",
       "  0.402001    0.333433    0.237299    0.157904       0.412288     0.331155\n",
       " -0.608412   -0.482289   -0.220621   -0.0535956     -0.608319    -0.692168\n",
       " -0.515154   -0.510635   -0.43664    -0.369964      -0.276373    -0.319539\n",
       "  ⋮                                              ⋱   ⋮           \n",
       "  0.0111084  -0.0999178  -0.134812   -0.140427      -0.00273768  -0.0259187\n",
       " -0.560942   -0.611744   -0.575198   -0.66274    …  -0.035448    -0.120316\n",
       "  0.0816984   0.0342629   0.066518    0.0240138      0.155403     0.0928857\n",
       "  0.141049   -0.0150473   0.138986    0.0633058      0.241056     0.139915\n",
       "  0.239894    0.173843    0.0931549   0.134515      -0.0680125    0.13834\n",
       " -0.270899   -0.291157   -0.486827   -0.369743      -0.224685    -0.288657\n",
       "  0.319883    0.3226      0.241213    0.287789   …   0.2526       0.303234\n",
       " -0.309025   -0.25665    -0.279589   -0.187182      -0.078334    -0.089306\n",
       "  0.206291    0.0327099   0.289142    0.180835       0.0900388    0.0903134"
      ]
     },
     "metadata": {},
     "output_type": "display_data"
    }
   ],
   "source": [
    "embedding_d = colbert_model(encode(textencoder, document)).hidden_state"
   ]
  },
  {
   "cell_type": "code",
   "execution_count": null,
   "metadata": {},
   "outputs": [],
   "source": []
  }
 ],
 "metadata": {
  "kernelspec": {
   "display_name": "Julia 1.10.2",
   "language": "julia",
   "name": "julia-1.10"
  },
  "language_info": {
   "file_extension": ".jl",
   "mimetype": "application/julia",
   "name": "julia",
   "version": "1.10.2"
  }
 },
 "nbformat": 4,
 "nbformat_minor": 2
}
