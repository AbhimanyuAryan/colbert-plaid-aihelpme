{
 "cells": [
  {
   "cell_type": "code",
   "execution_count": 1,
   "metadata": {},
   "outputs": [],
   "source": [
    "from transformers import AutoTokenizer, AutoModel\n",
    "import torch\n",
    "from torch.nn.functional import cosine_similarity"
   ]
  },
  {
   "cell_type": "code",
   "execution_count": 2,
   "metadata": {},
   "outputs": [],
   "source": [
    "# Load model and tokenizer\n",
    "tokenizer = AutoTokenizer.from_pretrained(\"colbert-ir/colbertv2.0\")\n",
    "model = AutoModel.from_pretrained(\"colbert-ir/colbertv2.0\").eval()"
   ]
  },
  {
   "cell_type": "code",
   "execution_count": 16,
   "metadata": {},
   "outputs": [],
   "source": [
    "# Define your query\n",
    "query = \"What did Sam Altman say?\"\n",
    "query_tokens = tokenizer(query, return_tensors='pt', padding=True, truncation=True)\n",
    "query_embeddings = model(**query_tokens).last_hidden_state\n",
    "query_embeddings = torch.nn.functional.normalize(query_embeddings, p=2, dim=-1)"
   ]
  },
  {
   "cell_type": "code",
   "execution_count": 17,
   "metadata": {},
   "outputs": [],
   "source": [
    "def chunk_text(text, max_length):\n",
    "    # Tokenize the text\n",
    "    tokens = tokenizer.tokenize(text)\n",
    "    \n",
    "    # Calculate the effective maximum chunk size, accounting for special tokens\n",
    "    max_chunk_size = max_length - tokenizer.num_special_tokens_to_add()\n",
    "    \n",
    "    # Initialize variables\n",
    "    chunked_tokens = []\n",
    "    \n",
    "    # Start chunking\n",
    "    for i in range(0, len(tokens), max_chunk_size):\n",
    "        chunk = tokens[i:i + max_chunk_size]\n",
    "        chunked_tokens.append(chunk)\n",
    "    \n",
    "    return [\" \".join(tokenizer.convert_tokens_to_string(chunk)) for chunk in chunked_tokens]"
   ]
  },
  {
   "cell_type": "code",
   "execution_count": 18,
   "metadata": {},
   "outputs": [],
   "source": [
    "with open(\"paul_graham/paul_graham_essay.txt\", \"r\", encoding=\"utf-8\") as file:\n",
    "    essay_text = file.read()"
   ]
  },
  {
   "cell_type": "code",
   "execution_count": 19,
   "metadata": {},
   "outputs": [],
   "source": [
    "document_chunks = chunk_text(essay_text, 512)"
   ]
  },
  {
   "cell_type": "code",
   "execution_count": 20,
   "metadata": {},
   "outputs": [],
   "source": [
    "# Initialize list to store scores\n",
    "max_similarity_scores_all_docs = []"
   ]
  },
  {
   "cell_type": "code",
   "execution_count": 21,
   "metadata": {},
   "outputs": [],
   "source": [
    "# Process each chunk\n",
    "for chunk in document_chunks:\n",
    "    # Tokenize and encode the chunk with necessary padding and truncation\n",
    "    document_tokens = tokenizer(chunk, return_tensors='pt', padding='max_length', truncation=True, max_length=512)\n",
    "    \n",
    "    with torch.no_grad():\n",
    "        document_embeddings = model(**document_tokens).last_hidden_state\n",
    "        document_embeddings = torch.nn.functional.normalize(document_embeddings, p=2, dim=-1)\n",
    "\n",
    "    # Compute similarity as before\n",
    "    similarity_scores = cosine_similarity(query_embeddings.squeeze(0)[:, None, :], document_embeddings.squeeze(0)[None, :, :], dim=-1)\n",
    "    max_similarity_scores = similarity_scores.max(dim=1).values\n",
    "    document_score = max_similarity_scores.mean()\n",
    "    max_similarity_scores_all_docs.append(document_score.item())"
   ]
  },
  {
   "cell_type": "code",
   "execution_count": 22,
   "metadata": {},
   "outputs": [
    {
     "name": "stdout",
     "output_type": "stream",
     "text": [
      "Chunk 1: Score = 0.3063\n",
      "Chunk 2: Score = 0.3079\n",
      "Chunk 3: Score = 0.3097\n",
      "Chunk 4: Score = 0.3096\n",
      "Chunk 5: Score = 0.3166\n",
      "Chunk 6: Score = 0.3116\n",
      "Chunk 7: Score = 0.3202\n",
      "Chunk 8: Score = 0.2948\n",
      "Chunk 9: Score = 0.3120\n",
      "Chunk 10: Score = 0.3208\n",
      "Chunk 11: Score = 0.3069\n",
      "Chunk 12: Score = 0.3036\n",
      "Chunk 13: Score = 0.3007\n",
      "Chunk 14: Score = 0.3041\n",
      "Chunk 15: Score = 0.3048\n",
      "Chunk 16: Score = 0.2970\n",
      "Chunk 17: Score = 0.2954\n",
      "Chunk 18: Score = 0.3174\n",
      "Chunk 19: Score = 0.3175\n",
      "Chunk 20: Score = 0.3043\n",
      "Chunk 21: Score = 0.2968\n",
      "Chunk 22: Score = 0.2987\n",
      "Chunk 23: Score = 0.3068\n",
      "Chunk 24: Score = 0.3034\n",
      "Chunk 25: Score = 0.3030\n",
      "Chunk 26: Score = 0.3058\n",
      "Chunk 27: Score = 0.3105\n",
      "Chunk 28: Score = 0.3022\n",
      "Chunk 29: Score = 0.3058\n",
      "Chunk 30: Score = 0.2949\n",
      "Chunk 31: Score = 0.3235\n",
      "Chunk 32: Score = 0.2984\n",
      "Chunk 33: Score = 0.3090\n",
      "Chunk 34: Score = 0.3139\n"
     ]
    }
   ],
   "source": [
    "# Output the scores\n",
    "for i, score in enumerate(max_similarity_scores_all_docs):\n",
    "    print(f\"Chunk {i+1}: Score = {score:.4f}\")"
   ]
  },
  {
   "cell_type": "code",
   "execution_count": null,
   "metadata": {},
   "outputs": [],
   "source": []
  }
 ],
 "metadata": {
  "kernelspec": {
   "display_name": "RAG",
   "language": "python",
   "name": "python3"
  },
  "language_info": {
   "codemirror_mode": {
    "name": "ipython",
    "version": 3
   },
   "file_extension": ".py",
   "mimetype": "text/x-python",
   "name": "python",
   "nbconvert_exporter": "python",
   "pygments_lexer": "ipython3",
   "version": "3.11.8"
  }
 },
 "nbformat": 4,
 "nbformat_minor": 2
}
