{
 "cells": [
  {
   "cell_type": "code",
   "execution_count": 7,
   "metadata": {},
   "outputs": [],
   "source": [
    "using Transformers\n",
    "using Transformers.TextEncoders\n",
    "using Transformers.HuggingFace\n",
    "using Flux"
   ]
  },
  {
   "cell_type": "code",
   "execution_count": 8,
   "metadata": {},
   "outputs": [],
   "source": [
    "textencoder, model = hgf\"colbert-ir/colbertv2.0\";"
   ]
  },
  {
   "cell_type": "code",
   "execution_count": 9,
   "metadata": {},
   "outputs": [
    {
     "data": {
      "text/plain": [
       "6-element Vector{String}:\n",
       " \"Paris is the capital and most populous city of France.\"\n",
       " \"Berlin is the capital and largest city of Germany.\"\n",
       " \"Madrid is the capital of Spain \"\u001b[93m\u001b[1m ⋯ 51 bytes ⋯ \u001b[22m\u001b[39m\"of Madrid and Spain as a whole.\"\n",
       " \"The capital of Italy is Rome. It is also the country's most populated city.\"\n",
       " \"This is some filling garbage document\"\n",
       " \"is the capital and most populous city of\""
      ]
     },
     "metadata": {},
     "output_type": "display_data"
    }
   ],
   "source": [
    "query = \"What is the capital of France?\"\n",
    "documents = [\n",
    "    \"Paris is the capital and most populous city of France.\",\n",
    "    \"Berlin is the capital and largest city of Germany.\",\n",
    "    \"Madrid is the capital of Spain and the largest municipality in both the Community of Madrid and Spain as a whole.\",\n",
    "    \"The capital of Italy is Rome. It is also the country's most populated city.\",\n",
    "    \"This is some filling garbage document\",\n",
    "    \"is the capital and most populous city of\"\n",
    "]"
   ]
  },
  {
   "cell_type": "code",
   "execution_count": 16,
   "metadata": {},
   "outputs": [
    {
     "data": {
      "text/plain": [
       "(hidden_state = Float32[-0.2040359 -1.0010264 … -0.57261616 -0.033507857; -0.16238452 -0.32795492 … -0.34557799 0.13945526; … ; 0.15999818 0.34105483 … -0.034759134 -0.20360212; 0.31119484 0.1236671 … 0.25582284 0.13972135;;;], attention_mask = NeuralAttentionlib.LengthMask{1, Vector{Int32}}(Int32[9]), pooled = Float32[-0.8209913; -0.49816102; … ; -0.58624995; 0.9137056;;])"
      ]
     },
     "metadata": {},
     "output_type": "display_data"
    }
   ],
   "source": [
    "model(encode(textencoder, query))"
   ]
  },
  {
   "cell_type": "code",
   "execution_count": null,
   "metadata": {},
   "outputs": [],
   "source": []
  }
 ],
 "metadata": {
  "kernelspec": {
   "display_name": "Julia 1.10.2",
   "language": "julia",
   "name": "julia-1.10"
  },
  "language_info": {
   "file_extension": ".jl",
   "mimetype": "application/julia",
   "name": "julia",
   "version": "1.10.2"
  }
 },
 "nbformat": 4,
 "nbformat_minor": 2
}
